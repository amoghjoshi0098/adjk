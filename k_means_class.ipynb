{
  "nbformat": 4,
  "nbformat_minor": 0,
  "metadata": {
    "colab": {
      "name": "k-means_class.ipynb",
      "private_outputs": true,
      "provenance": [],
      "mount_file_id": "14POLTZ7qff_Se-I-P-oOlPEwQtA_uj-c",
      "authorship_tag": "ABX9TyMrWwN9LuFXUMPrwAPRJngS",
      "include_colab_link": true
    },
    "kernelspec": {
      "name": "python3",
      "display_name": "Python 3"
    },
    "language_info": {
      "name": "python"
    }
  },
  "cells": [
    {
      "cell_type": "markdown",
      "metadata": {
        "id": "view-in-github",
        "colab_type": "text"
      },
      "source": [
        "<a href=\"https://colab.research.google.com/github/amoghjoshi0098/adjk/blob/master/k_means_class.ipynb\" target=\"_parent\"><img src=\"https://colab.research.google.com/assets/colab-badge.svg\" alt=\"Open In Colab\"/></a>"
      ]
    },
    {
      "cell_type": "code",
      "metadata": {
        "id": "b3VasW6Q_MaV"
      },
      "source": [
        ""
      ],
      "execution_count": null,
      "outputs": []
    },
    {
      "cell_type": "code",
      "metadata": {
        "id": "9LKqsdn-4pqE"
      },
      "source": [
        "import numpy as np\n",
        "import matplotlib.pyplot as plt\n",
        "from sklearn.datasets import make_blobs\n",
        "from sklearn.cluster import KMeans\n",
        "import pandas as pd\n",
        "from collections import defaultdict\n",
        "import os\n",
        "from sklearn.preprocessing import MinMaxScaler\n",
        "\n",
        "\n"
      ],
      "execution_count": null,
      "outputs": []
    },
    {
      "cell_type": "code",
      "metadata": {
        "id": "vZK7KE3g_xf3"
      },
      "source": [
        "data=defaultdict(list)\n",
        "variable1=[1,1,3,4]\n",
        "variable2=[1,2,4,5]\n",
        "\n",
        "for i in range(4):\n",
        "  data['indivisual'].append(i)\n",
        "  data['variable1'].append(i)\n",
        "  data['variable2'].append(i)\n",
        "print(data)\n",
        "\n",
        "df=pd.DataFrame(data)\n",
        "\n",
        "writer=pd.ExcelWriter('/content/drive/MyDrive/Activity_1_Data.xlsx')\n",
        "df.to_excel(writer,sheet_name='Activity_1_Data',index=False)\n",
        "writer.save()\n",
        "\n"
      ],
      "execution_count": null,
      "outputs": []
    },
    {
      "cell_type": "code",
      "metadata": {
        "id": "4lTkHuc__yOF"
      },
      "source": [
        "df=pd.read_excel('/content/drive/MyDrive/Activity_1_Data.xlsx')\n",
        "df\n",
        "\n"
      ],
      "execution_count": null,
      "outputs": []
    },
    {
      "cell_type": "code",
      "metadata": {
        "id": "yz7bwwkRDsSV"
      },
      "source": [
        "plt.scatter(df['variable1'],df['variable2'])"
      ],
      "execution_count": null,
      "outputs": []
    },
    {
      "cell_type": "code",
      "metadata": {
        "id": "dboK50FWEqhG"
      },
      "source": [
        "km=KMeans(n_clusters=2)\n",
        "km"
      ],
      "execution_count": null,
      "outputs": []
    },
    {
      "cell_type": "code",
      "metadata": {
        "id": "NmD-c9cSExCX"
      },
      "source": [
        "y_predicted=km.fit_predict(df[['variable1','variable2']])\n",
        "y_predicted\n"
      ],
      "execution_count": null,
      "outputs": []
    },
    {
      "cell_type": "code",
      "metadata": {
        "id": "y2E2owokE-h4"
      },
      "source": [
        "df['cluster']=y_predicted\n",
        "df.head()\n"
      ],
      "execution_count": null,
      "outputs": []
    },
    {
      "cell_type": "code",
      "metadata": {
        "id": "Ty7xERPiFFin"
      },
      "source": [
        "df1=df[df.cluster==0]\n",
        "df2=df[df.cluster==1]\n",
        "plt.scatter(df1.variable1,df1.variable2,color='green')\n",
        "plt.scatter(df2.variable1,df2.variable2,color='blue')\n",
        "\n",
        "\n"
      ],
      "execution_count": null,
      "outputs": []
    },
    {
      "cell_type": "code",
      "metadata": {
        "id": "ekS_9ZDsGTK2"
      },
      "source": [
        "km.fit(df[['variable1','variable2']])\n",
        "sse=[]\n",
        "k_rng=range(1,4)\n",
        "for k in k_rng:\n",
        "  km=KMeans(n_clusters=k)\n",
        "  km.fit(df[['variable1','variable2']])\n",
        "  sse.append(km.inertia_)\n",
        "sse"
      ],
      "execution_count": null,
      "outputs": []
    },
    {
      "cell_type": "code",
      "metadata": {
        "id": "jPMYRByXHU_A"
      },
      "source": [
        "plt.xlabel('K')\n",
        "plt.ylabel('sum of squared error')\n",
        "plt.plot(k_rng,sse)"
      ],
      "execution_count": null,
      "outputs": []
    }
  ]
}